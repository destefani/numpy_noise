{
  "nbformat": 4,
  "nbformat_minor": 0,
  "metadata": {
    "colab": {
      "name": "numpy_noise.ipynb",
      "provenance": [],
      "collapsed_sections": [],
      "authorship_tag": "ABX9TyOnFa5XTOHbdlI6Urxe5h+6",
      "include_colab_link": true
    },
    "kernelspec": {
      "display_name": "Python 3",
      "name": "python3"
    }
  },
  "cells": [
    {
      "cell_type": "markdown",
      "metadata": {
        "id": "view-in-github",
        "colab_type": "text"
      },
      "source": [
        "<a href=\"https://colab.research.google.com/github/destefani/numpy_noise/blob/main/numpy_noise.ipynb\" target=\"_parent\"><img src=\"https://colab.research.google.com/assets/colab-badge.svg\" alt=\"Open In Colab\"/></a>"
      ]
    },
    {
      "cell_type": "code",
      "metadata": {
        "id": "loQpQmwu9woe"
      },
      "source": [
        "import numpy as np\n",
        "import IPython.display as ipd\n",
        "import librosa\n",
        "import soundfile as sf\n",
        "from tqdm import tqdm\n",
        "\n",
        "from PIL import Image\n",
        "import matplotlib.pyplot as plt\n",
        "from matplotlib import cm"
      ],
      "execution_count": null,
      "outputs": []
    },
    {
      "cell_type": "markdown",
      "metadata": {
        "id": "N7R2qI4YKEp4"
      },
      "source": [
        "## Sine wave"
      ]
    },
    {
      "cell_type": "code",
      "metadata": {
        "id": "9PLCyCr9CqQe"
      },
      "source": [
        "sr = 22050 # sample rate\n",
        "T = 2.0    # seconds\n",
        "t = np.linspace(0, T, int(T*sr), endpoint=False) # time variable\n",
        "x = 0.5*np.sin(2*np.pi*440*t)                # pure sine wave at 440 Hz"
      ],
      "execution_count": null,
      "outputs": []
    },
    {
      "cell_type": "code",
      "metadata": {
        "id": "XUSMfhpn93vP"
      },
      "source": [
        "ipd.Audio(x, rate=sr) # load a NumPy array"
      ],
      "execution_count": null,
      "outputs": []
    },
    {
      "cell_type": "markdown",
      "metadata": {
        "id": "zqE7TrJlBpP2"
      },
      "source": [
        "## Generate random sine waves"
      ]
    },
    {
      "cell_type": "code",
      "metadata": {
        "id": "KpYGGTLfBsxb"
      },
      "source": [
        "def random_sine(duration, range=[12000, 15000], sample_rate=44100):\n",
        "  t = np.linspace(0, duration, int(duration*sample_rate), endpoint=False)\n",
        "  frequency = np.random.randint(range[0], range[1]) # generate random int\n",
        "  x = 0.5*np.sin(2*np.pi*frequency*t)              \n",
        "  return x"
      ],
      "execution_count": null,
      "outputs": []
    },
    {
      "cell_type": "code",
      "metadata": {
        "id": "TIRRtgOZCdxv"
      },
      "source": [
        "def random_sine_sequence(n_segments, pith_range, step_lenght=[0, 1]):\n",
        "  sequence = np.empty(0)\n",
        "  for i in tqdm(range(n_segments)):\n",
        "    sine_lenght = np.random.random_sample() * np.random.randint(step_lenght[0], step_lenght[1])\n",
        "    sine = random_sine(sine_lenght, pith_range)\n",
        "    sequence = np.append(sequence, sine)\n",
        "  return sequence"
      ],
      "execution_count": null,
      "outputs": []
    },
    {
      "cell_type": "code",
      "metadata": {
        "id": "x20qWyR-w7pF"
      },
      "source": [
        "sequence_1 = random_sine_sequence(1000, pith_range=[20, 70], step_lenght=[1, 2])\n",
        "sequence_1.shape"
      ],
      "execution_count": null,
      "outputs": []
    },
    {
      "cell_type": "code",
      "metadata": {
        "id": "EkeGbxwaNlP0"
      },
      "source": [
        "ipd.Audio(sequence_1[:4410000], rate=44100) # load a NumPy array"
      ],
      "execution_count": null,
      "outputs": []
    },
    {
      "cell_type": "markdown",
      "metadata": {
        "id": "voqnfdWvwBYO"
      },
      "source": [
        "## Add sequences\n"
      ]
    },
    {
      "cell_type": "code",
      "metadata": {
        "id": "ZFkqWR5XxC6_"
      },
      "source": [
        "sequence_2 = random_sine_sequence(1000, pith_range=[3000, 7000], step_lenght=[1, 2])\n",
        "sequence_2.shape"
      ],
      "execution_count": null,
      "outputs": []
    },
    {
      "cell_type": "code",
      "metadata": {
        "id": "NDNF8qMExT-Q"
      },
      "source": [
        "ipd.Audio(sequence_2[:4410000], rate=44100) # load a NumPy array"
      ],
      "execution_count": null,
      "outputs": []
    },
    {
      "cell_type": "code",
      "metadata": {
        "id": "f8GIQ-15wDzc"
      },
      "source": [
        "sumed_sequence = sequence_1[:4410000] + sequence_2[:4410000]"
      ],
      "execution_count": null,
      "outputs": []
    },
    {
      "cell_type": "code",
      "metadata": {
        "id": "gNYrdksSwj9T"
      },
      "source": [
        "ipd.Audio(sumed_sequence, rate=44100)"
      ],
      "execution_count": null,
      "outputs": []
    },
    {
      "cell_type": "code",
      "metadata": {
        "id": "yVGTVVtAxXYy"
      },
      "source": [
        "def sumed_sequences(n_seq):\n",
        "  sequence = np.empty(4410000)\n",
        "  for n in range(n_seq):\n",
        "    sequence = sequence + random_sine_sequence(1000, pith_range=[20, 15000], step_lenght=[1, 2])[4410000]\n",
        "  return sequence"
      ],
      "execution_count": null,
      "outputs": []
    },
    {
      "cell_type": "code",
      "metadata": {
        "id": "NsR9qK32x3bG"
      },
      "source": [
        "n_10_sequence = sumed_sequences(10)"
      ],
      "execution_count": null,
      "outputs": []
    },
    {
      "cell_type": "code",
      "metadata": {
        "id": "iDiNbLalx9eg"
      },
      "source": [
        "ipd.Audio(n_10_sequence, rate=44100)"
      ],
      "execution_count": null,
      "outputs": []
    },
    {
      "cell_type": "markdown",
      "metadata": {
        "id": "slA5cCDsNoo1"
      },
      "source": [
        "## Stereo sequence"
      ]
    },
    {
      "cell_type": "code",
      "metadata": {
        "id": "KNB-DzzZLh1T"
      },
      "source": [
        "sequence1 = np.empty(0)\n",
        "for i in range(1000):\n",
        "  duration = np.random.randint(0.1, 1)\n",
        "  sine = random_sine(0.1)\n",
        "  sequence1 = np.append(sequence1, sine)"
      ],
      "execution_count": null,
      "outputs": []
    },
    {
      "cell_type": "code",
      "metadata": {
        "id": "7srTJelqHnS_"
      },
      "source": [
        "sequence2 = np.empty(0)\n",
        "for i in range(1000):\n",
        "  duration = np.random.randint(0.1, 1)\n",
        "  sine = random_sine(0.1)\n",
        "  sequence2 = np.append(sequence2, sine)"
      ],
      "execution_count": null,
      "outputs": []
    },
    {
      "cell_type": "code",
      "metadata": {
        "id": "wJv2rDSCMky0"
      },
      "source": [
        "print(sequence1.shape)\n",
        "print(sequence2.shape)"
      ],
      "execution_count": null,
      "outputs": []
    },
    {
      "cell_type": "code",
      "metadata": {
        "id": "l7Ljtz9ILwtE"
      },
      "source": [
        "stereo_sequence = np.stack((sequence1, sequence2))\n",
        "print(stereo_sequence.shape)"
      ],
      "execution_count": null,
      "outputs": []
    },
    {
      "cell_type": "code",
      "metadata": {
        "id": "aNIzlS_5ExoH"
      },
      "source": [
        "ipd.Audio(stereo_sequence, rate=44100) # load a NumPy array"
      ],
      "execution_count": null,
      "outputs": []
    },
    {
      "cell_type": "markdown",
      "metadata": {
        "id": "IjJzwWxqJpg8"
      },
      "source": [
        "\n",
        "\n",
        "## Save audio\n"
      ]
    },
    {
      "cell_type": "code",
      "metadata": {
        "id": "arDnHqELJpRh"
      },
      "source": [
        "sf.write('low_random_sequence.wav', sequence_1, 44100, subtype='PCM_24')"
      ],
      "execution_count": null,
      "outputs": []
    },
    {
      "cell_type": "markdown",
      "metadata": {
        "id": "YXmMzpCK_WbS"
      },
      "source": [
        "## Image\n"
      ]
    },
    {
      "cell_type": "code",
      "metadata": {
        "id": "ApIuMmsWAomj"
      },
      "source": [
        "def image_from_array(array, size):\n",
        "  pixels = size[0] * size[1]\n",
        "  image = array[:pixels].reshape(size)\n",
        "  return Image.fromarray(np.uint8(cm.gist_earth(image)*255))"
      ],
      "execution_count": null,
      "outputs": []
    },
    {
      "cell_type": "code",
      "metadata": {
        "colab": {
          "background_save": true
        },
        "id": "QUCnSdUHBp-6"
      },
      "source": [
        "im_seq1 = image_from_array(sequence_1, (1024, 1024))\n",
        "im_seq1.convert('RGB').save(\"im_seq1.jpg\") \n",
        "plt.imshow(im_seq1)"
      ],
      "execution_count": null,
      "outputs": []
    },
    {
      "cell_type": "code",
      "metadata": {
        "colab": {
          "background_save": true
        },
        "id": "nJGRRctlBUVI"
      },
      "source": [
        "im_seq2 = image_from_array(sequence_2, (1024, 1024))\n",
        "im_seq2.convert('RGB').save(\"im_seq2.jpg\") \n",
        "plt.imshow(im_seq2)"
      ],
      "execution_count": null,
      "outputs": []
    },
    {
      "cell_type": "code",
      "metadata": {
        "colab": {
          "background_save": true
        },
        "id": "bwWVuFYRBZ9B"
      },
      "source": [
        "im_sum_seq = image_from_array(sumed_sequence, (1024, 1024))\n",
        "im_sum_seq.convert('RGB').save(\"im_sum_seq.jpg\") \n",
        "plt.imshow(im_sum_seq)"
      ],
      "execution_count": null,
      "outputs": []
    },
    {
      "cell_type": "code",
      "metadata": {
        "colab": {
          "background_save": true
        },
        "id": "PMn23V2LBgH6"
      },
      "source": [
        "im_10_seq = image_from_array(n_10_sequence, (1024, 1024))\n",
        "im_10_seq.convert('RGB').save(\"n_10_seq.jpg\") \n",
        "plt.imshow(im_10_seq)"
      ],
      "execution_count": null,
      "outputs": []
    }
  ]
}