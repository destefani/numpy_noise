{
  "nbformat": 4,
  "nbformat_minor": 0,
  "metadata": {
    "colab": {
      "name": "numpy_noise.ipynb",
      "provenance": [],
      "collapsed_sections": [],
      "toc_visible": true
    },
    "kernelspec": {
      "display_name": "Python 3",
      "name": "python3"
    }
  },
  "cells": [
    {
      "cell_type": "code",
      "metadata": {
        "id": "loQpQmwu9woe"
      },
      "source": [
        "import numpy as np\n",
        "import IPython.display as ipd\n",
        "import librosa\n",
        "import soundfile as sf\n",
        "from tqdm import tqdm\n"
      ],
      "execution_count": null,
      "outputs": []
    },
    {
      "cell_type": "markdown",
      "metadata": {
        "id": "N7R2qI4YKEp4"
      },
      "source": [
        "## Sine wave"
      ]
    },
    {
      "cell_type": "code",
      "metadata": {
        "id": "9PLCyCr9CqQe"
      },
      "source": [
        "sr = 22050 # sample rate\n",
        "T = 2.0    # seconds\n",
        "t = np.linspace(0, T, int(T*sr), endpoint=False) # time variable\n",
        "x = 0.5*np.sin(2*np.pi*440*t)                # pure sine wave at 440 Hz"
      ],
      "execution_count": null,
      "outputs": []
    },
    {
      "cell_type": "code",
      "metadata": {
        "id": "XUSMfhpn93vP"
      },
      "source": [
        "ipd.Audio(x, rate=sr) # load a NumPy array"
      ],
      "execution_count": null,
      "outputs": []
    },
    {
      "cell_type": "markdown",
      "metadata": {
        "id": "zqE7TrJlBpP2"
      },
      "source": [
        "## Generate random sine waves"
      ]
    },
    {
      "cell_type": "code",
      "metadata": {
        "id": "KpYGGTLfBsxb"
      },
      "source": [
        "def random_sine(duration, range=[12000, 15000], sample_rate=44100):\n",
        "  t = np.linspace(0, duration, int(duration*sample_rate), endpoint=False)\n",
        "  frequency = np.random.randint(range[0], range[1]) # generate random int\n",
        "  x = 0.5*np.sin(2*np.pi*frequency*t)              \n",
        "  return x"
      ],
      "execution_count": null,
      "outputs": []
    },
    {
      "cell_type": "code",
      "metadata": {
        "id": "TIRRtgOZCdxv"
      },
      "source": [
        "def random_sine_sequence(n_segments, pith_range, step_lenght=[0, 1]):\n",
        "  sequence = np.empty(0)\n",
        "  for i in tqdm(range(n_segments)):\n",
        "    sine_lenght = np.random.random_sample() * np.random.randint(step_lenght[0], step_lenght[1])\n",
        "    sine = random_sine(sine_lenght, pith_range)\n",
        "    sequence = np.append(sequence, sine)\n",
        "  return sequence"
      ],
      "execution_count": null,
      "outputs": []
    },
    {
      "cell_type": "code",
      "metadata": {
        "id": "x20qWyR-w7pF"
      },
      "source": [
        "sequence_1 = random_sine_sequence(1000, pith_range=[20, 70], step_lenght=[1, 2])\n",
        "sequence_1.shape"
      ],
      "execution_count": null,
      "outputs": []
    },
    {
      "cell_type": "code",
      "metadata": {
        "id": "EkeGbxwaNlP0"
      },
      "source": [
        "ipd.Audio(sequence_1[:4410000], rate=44100) # load a NumPy array"
      ],
      "execution_count": null,
      "outputs": []
    },
    {
      "cell_type": "markdown",
      "metadata": {
        "id": "voqnfdWvwBYO"
      },
      "source": [
        "## Add sequences\n"
      ]
    },
    {
      "cell_type": "code",
      "metadata": {
        "id": "ZFkqWR5XxC6_"
      },
      "source": [
        "sequence_2 = random_sine_sequence(1000, pith_range=[3000, 7000], step_lenght=[1, 2])\n",
        "sequence_2.shape"
      ],
      "execution_count": null,
      "outputs": []
    },
    {
      "cell_type": "code",
      "metadata": {
        "id": "NDNF8qMExT-Q"
      },
      "source": [
        "ipd.Audio(sequence_2[:4410000], rate=44100) # load a NumPy array"
      ],
      "execution_count": null,
      "outputs": []
    },
    {
      "cell_type": "code",
      "metadata": {
        "id": "f8GIQ-15wDzc"
      },
      "source": [
        "sumed_sequence = sequence_1[:4410000] + sequence_2[:4410000]"
      ],
      "execution_count": null,
      "outputs": []
    },
    {
      "cell_type": "code",
      "metadata": {
        "id": "gNYrdksSwj9T"
      },
      "source": [
        "ipd.Audio(sumed_sequence, rate=44100)"
      ],
      "execution_count": null,
      "outputs": []
    },
    {
      "cell_type": "code",
      "metadata": {
        "id": "Co41hisC3dZq"
      },
      "source": [
        "sequence_3 = random_sine_sequence(1000, pith_range=[12000, 15000], step_lenght=[1, None])\n",
        "sequence_3.shape"
      ],
      "execution_count": null,
      "outputs": []
    },
    {
      "cell_type": "code",
      "metadata": {
        "id": "mUnB0KyF3kMg"
      },
      "source": [
        "sumed_sequence_2 = sequence_1[:4410000] + sequence_2[:4410000] + sequence_3[:4410000]"
      ],
      "execution_count": null,
      "outputs": []
    },
    {
      "cell_type": "code",
      "metadata": {
        "id": "Xfe6vM_P3wOe"
      },
      "source": [
        "ipd.Audio(sumed_sequence_2, rate=44100)"
      ],
      "execution_count": null,
      "outputs": []
    },
    {
      "cell_type": "code",
      "metadata": {
        "id": "yVGTVVtAxXYy"
      },
      "source": [
        "def sumed_sequences(n_seq):\n",
        "  sequence = np.empty(4410000)\n",
        "  for n in range(n_seq):\n",
        "    sequence = sequence + random_sine_sequence(1000)\n",
        "  return sequence"
      ],
      "execution_count": null,
      "outputs": []
    },
    {
      "cell_type": "code",
      "metadata": {
        "id": "NsR9qK32x3bG"
      },
      "source": [
        "n_10_sequence = sumed_sequences(10)"
      ],
      "execution_count": null,
      "outputs": []
    },
    {
      "cell_type": "code",
      "metadata": {
        "id": "iDiNbLalx9eg"
      },
      "source": [
        "ipd.Audio(n_10_sequence, rate=44100)"
      ],
      "execution_count": null,
      "outputs": []
    },
    {
      "cell_type": "markdown",
      "metadata": {
        "id": "slA5cCDsNoo1"
      },
      "source": [
        "## Stereo sequence"
      ]
    },
    {
      "cell_type": "code",
      "metadata": {
        "id": "KNB-DzzZLh1T"
      },
      "source": [
        "sequence2 = np.empty(0)\n",
        "for i in range(1000):\n",
        "  duration = np.random.randint(0.1, 1)\n",
        "  sine = random_sine(0.1)\n",
        "  sequence2 = np.append(sequence2, sine)"
      ],
      "execution_count": null,
      "outputs": []
    },
    {
      "cell_type": "code",
      "metadata": {
        "id": "o1sKH6FiMqrK"
      },
      "source": [
        "sequence.shape[0]"
      ],
      "execution_count": null,
      "outputs": []
    },
    {
      "cell_type": "code",
      "metadata": {
        "id": "wJv2rDSCMky0"
      },
      "source": [
        "print(sequence.shape)\n",
        "print(sequence2.shape)"
      ],
      "execution_count": null,
      "outputs": []
    },
    {
      "cell_type": "code",
      "metadata": {
        "id": "l7Ljtz9ILwtE"
      },
      "source": [
        "stereo_sequence = np.stack((sequence, sequence2))\n",
        "print(stereo_sequence.shape)"
      ],
      "execution_count": null,
      "outputs": []
    },
    {
      "cell_type": "code",
      "metadata": {
        "colab": {
          "background_save": true
        },
        "id": "aNIzlS_5ExoH"
      },
      "source": [
        "ipd.Audio(stereo_sequence, rate=44100) # load a NumPy array"
      ],
      "execution_count": null,
      "outputs": []
    },
    {
      "cell_type": "markdown",
      "metadata": {
        "id": "IjJzwWxqJpg8"
      },
      "source": [
        "\n",
        "\n",
        "## Save audio\n"
      ]
    },
    {
      "cell_type": "code",
      "metadata": {
        "id": "arDnHqELJpRh"
      },
      "source": [
        "sf.write('low_random_sequence.wav', sequence_1, 44100, subtype='PCM_24')"
      ],
      "execution_count": null,
      "outputs": []
    },
    {
      "cell_type": "code",
      "metadata": {
        "id": "M76QIsTOOEUO"
      },
      "source": [
        ""
      ],
      "execution_count": null,
      "outputs": []
    }
  ]
}